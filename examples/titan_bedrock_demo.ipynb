{
 "cells": [
  {
   "cell_type": "code",
   "execution_count": null,
   "id": "fea5cec7",
   "metadata": {},
   "outputs": [],
   "source": [
    "from embeddings.titan_embedder import TitanTextEmbedder\n",
    "from vectorstore.chroma_wrapper import ChromaVectorStore\n",
    "from llm.bedrock_llm import BedrockLLM\n",
    "from rag.pipeline import RAGPipeline\n",
    "from ingestion.pdf_ingestion import extract_text_from_pdf_s3\n",
    "from ingestion.chunking import chunk_text"
   ]
  },
  {
   "cell_type": "code",
   "execution_count": null,
   "id": "7d2f4c63",
   "metadata": {},
   "outputs": [],
   "source": [
    "bucket = \"your-bucket\"\n",
    "key = \"medical-reports/aws-only.pdf\"\n",
    "query = \"Summarize the MRI findings\""
   ]
  },
  {
   "cell_type": "code",
   "execution_count": null,
   "id": "8aa4efdb",
   "metadata": {},
   "outputs": [],
   "source": [
    "# Load + chunk\n",
    "text = extract_text_from_pdf_s3(bucket, key)\n",
    "chunks = chunk_text(text)"
   ]
  },
  {
   "cell_type": "code",
   "execution_count": null,
   "id": "d1e96950",
   "metadata": {},
   "outputs": [],
   "source": [
    "# Titan embedding\n",
    "embedder = TitanTextEmbedder()\n",
    "embeddings = embedder.embed_texts(chunks)"
   ]
  },
  {
   "cell_type": "code",
   "execution_count": null,
   "id": "a57d966f",
   "metadata": {},
   "outputs": [],
   "source": [
    "# Store + Search\n",
    "vs = ChromaVectorStore(\"aws-only\")\n",
    "vs.add_texts(chunks, embeddings)\n",
    "query_vec = embedder.embed_texts([query])[0]\n",
    "top_chunks = vs.similarity_search(query=query, query_embedding=query_vec)"
   ]
  },
  {
   "cell_type": "code",
   "execution_count": null,
   "id": "c3f0338e",
   "metadata": {},
   "outputs": [],
   "source": [
    "# Generate\n",
    "llm = BedrockLLM()\n",
    "from llm.prompt_templates import qa_prompt_template\n",
    "prompt = qa_prompt_template(\" \".join(top_chunks), query)\n",
    "print(llm.generate(prompt))\n"
   ]
  }
 ],
 "metadata": {
  "language_info": {
   "name": "python"
  }
 },
 "nbformat": 4,
 "nbformat_minor": 5
}
