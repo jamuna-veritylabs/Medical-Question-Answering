{
 "cells": [
  {
   "cell_type": "code",
   "execution_count": null,
   "id": "a7f9260f",
   "metadata": {},
   "outputs": [],
   "source": [
    "import sys\n",
    "import os\n",
    "\n",
    "# Add the 'src' folder to the Python path\n",
    "sys.path.append(os.path.abspath(os.path.join(os.getcwd(), '../src')))\n"
   ]
  },
  {
   "cell_type": "code",
   "execution_count": null,
   "id": "bfd26036",
   "metadata": {},
   "outputs": [],
   "source": [
    "print(sys.path)\n"
   ]
  },
  {
   "cell_type": "code",
   "execution_count": null,
   "id": "659e6aa1",
   "metadata": {},
   "outputs": [],
   "source": [
    "# 1. Imports\n",
    "from components.rag.qa_workflow import run_rag_qa_workflow\n",
    "from components.embeddings.sbert_embedder import SBERTEmbedder\n",
    "from components.vectorstore.chroma_wrapper import ChromaVectorStore\n",
    "from components.llm.bedrock_llm import BedrockLLM\n"
   ]
  },
  {
   "cell_type": "code",
   "execution_count": null,
   "id": "67890dbe",
   "metadata": {},
   "outputs": [],
   "source": [
    "# 2. Define Input\n",
    "bucket = \"your-bucket\"\n",
    "key = \"medical-reports/sample.pdf\"\n",
    "query = \"What does the MRI scan show?\""
   ]
  },
  {
   "cell_type": "code",
   "execution_count": null,
   "id": "60095bcd",
   "metadata": {},
   "outputs": [],
   "source": [
    "# 3. Run Workflow\n",
    "answer = run_rag_qa_workflow(\n",
    "    bucket=bucket,\n",
    "    key=key,\n",
    "    query=query,\n",
    "    embedder=SBERTEmbedder(),\n",
    "    vectorstore=ChromaVectorStore(\"demo\"),\n",
    "    llm=BedrockLLM()\n",
    ")\n",
    "\n",
    "print(\"Answer:\", answer)"
   ]
  }
 ],
 "metadata": {
  "kernelspec": {
   "display_name": "Python 3",
   "language": "python",
   "name": "python3"
  },
  "language_info": {
   "codemirror_mode": {
    "name": "ipython",
    "version": 3
   },
   "file_extension": ".py",
   "mimetype": "text/x-python",
   "name": "python",
   "nbconvert_exporter": "python",
   "pygments_lexer": "ipython3",
   "version": "3.12.1"
  }
 },
 "nbformat": 4,
 "nbformat_minor": 5
}
