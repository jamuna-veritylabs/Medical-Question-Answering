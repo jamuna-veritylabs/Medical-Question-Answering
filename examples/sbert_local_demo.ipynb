{
 "cells": [
  {
   "cell_type": "code",
   "execution_count": null,
   "id": "98532591",
   "metadata": {},
   "outputs": [],
   "source": [
    "from ingestion.pdf_ingestion import extract_text_from_pdf_local\n",
    "from ingestion.chunking import chunk_text\n",
    "from embeddings.sbert_embedder import SBERTEmbedder\n",
    "from vectorstore.faiss_store import FAISSVectorStore\n",
    "from llm.bedrock_llm import BedrockLLM\n",
    "from rag.pipeline import RAGPipeline"
   ]
  },
  {
   "cell_type": "code",
   "execution_count": null,
   "id": "9d7e8079",
   "metadata": {},
   "outputs": [],
   "source": [
    "# 1. Load & chunk local PDF\n",
    "text = extract_text_from_pdf_local(\"sample.pdf\")\n",
    "chunks = chunk_text(text)"
   ]
  },
  {
   "cell_type": "code",
   "execution_count": null,
   "id": "110aad3c",
   "metadata": {},
   "outputs": [],
   "source": [
    "# 2. Embed & index\n",
    "embedder = SBERTEmbedder()\n",
    "embeddings = embedder.embed_texts(chunks)"
   ]
  },
  {
   "cell_type": "code",
   "execution_count": null,
   "id": "c61b4abf",
   "metadata": {},
   "outputs": [],
   "source": [
    "vs = FAISSVectorStore(dim=len(embeddings[0]))\n",
    "vs.add_texts(chunks, embeddings)"
   ]
  },
  {
   "cell_type": "code",
   "execution_count": null,
   "id": "ecec8d22",
   "metadata": {},
   "outputs": [],
   "source": [
    "# 3. Query\n",
    "query = \"What symptoms are described?\"\n",
    "query_vec = embedder.embed_texts([query])[0]\n",
    "top_chunks = vs.similarity_search(query_vec)"
   ]
  },
  {
   "cell_type": "code",
   "execution_count": null,
   "id": "a2e52308",
   "metadata": {},
   "outputs": [],
   "source": [
    "# 4. Generate answer\n",
    "from llm.prompt_templates import qa_prompt_template\n",
    "llm = BedrockLLM()\n",
    "prompt = qa_prompt_template(\" \".join(top_chunks), query)\n",
    "print(llm.generate(prompt))\n"
   ]
  }
 ],
 "metadata": {
  "language_info": {
   "name": "python"
  }
 },
 "nbformat": 4,
 "nbformat_minor": 5
}
